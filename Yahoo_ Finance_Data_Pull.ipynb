{
 "cells": [
  {
   "cell_type": "code",
   "execution_count": 2,
   "metadata": {},
   "outputs": [],
   "source": [
    "import yfinance as yf"
   ]
  },
  {
   "cell_type": "code",
   "execution_count": 7,
   "metadata": {},
   "outputs": [
    {
     "name": "stdout",
     "output_type": "stream",
     "text": [
      "[*********************100%***********************]  1 of 1 downloaded\n"
     ]
    }
   ],
   "source": [
    "#Intraday Data\n",
    "data = yf.download('VST', period = '1mo', interval = '5m')"
   ]
  },
  {
   "cell_type": "code",
   "execution_count": 8,
   "metadata": {},
   "outputs": [
    {
     "data": {
      "text/html": [
       "<div>\n",
       "<style scoped>\n",
       "    .dataframe tbody tr th:only-of-type {\n",
       "        vertical-align: middle;\n",
       "    }\n",
       "\n",
       "    .dataframe tbody tr th {\n",
       "        vertical-align: top;\n",
       "    }\n",
       "\n",
       "    .dataframe thead th {\n",
       "        text-align: right;\n",
       "    }\n",
       "</style>\n",
       "<table border=\"1\" class=\"dataframe\">\n",
       "  <thead>\n",
       "    <tr style=\"text-align: right;\">\n",
       "      <th></th>\n",
       "      <th>Open</th>\n",
       "      <th>High</th>\n",
       "      <th>Low</th>\n",
       "      <th>Close</th>\n",
       "      <th>Adj Close</th>\n",
       "      <th>Volume</th>\n",
       "    </tr>\n",
       "    <tr>\n",
       "      <th>Datetime</th>\n",
       "      <th></th>\n",
       "      <th></th>\n",
       "      <th></th>\n",
       "      <th></th>\n",
       "      <th></th>\n",
       "      <th></th>\n",
       "    </tr>\n",
       "  </thead>\n",
       "  <tbody>\n",
       "    <tr>\n",
       "      <th>2020-08-10 09:30:00-04:00</th>\n",
       "      <td>18.93</td>\n",
       "      <td>19.01</td>\n",
       "      <td>18.86</td>\n",
       "      <td>18.99</td>\n",
       "      <td>18.99</td>\n",
       "      <td>47211</td>\n",
       "    </tr>\n",
       "    <tr>\n",
       "      <th>2020-08-10 09:35:00-04:00</th>\n",
       "      <td>18.99</td>\n",
       "      <td>19.00</td>\n",
       "      <td>18.90</td>\n",
       "      <td>18.98</td>\n",
       "      <td>18.98</td>\n",
       "      <td>15092</td>\n",
       "    </tr>\n",
       "    <tr>\n",
       "      <th>2020-08-10 09:40:00-04:00</th>\n",
       "      <td>18.99</td>\n",
       "      <td>19.09</td>\n",
       "      <td>18.97</td>\n",
       "      <td>19.08</td>\n",
       "      <td>19.08</td>\n",
       "      <td>9462</td>\n",
       "    </tr>\n",
       "    <tr>\n",
       "      <th>2020-08-10 09:45:00-04:00</th>\n",
       "      <td>19.08</td>\n",
       "      <td>19.08</td>\n",
       "      <td>18.94</td>\n",
       "      <td>18.98</td>\n",
       "      <td>18.98</td>\n",
       "      <td>17195</td>\n",
       "    </tr>\n",
       "    <tr>\n",
       "      <th>2020-08-10 09:50:00-04:00</th>\n",
       "      <td>18.99</td>\n",
       "      <td>19.02</td>\n",
       "      <td>18.94</td>\n",
       "      <td>18.97</td>\n",
       "      <td>18.97</td>\n",
       "      <td>11259</td>\n",
       "    </tr>\n",
       "  </tbody>\n",
       "</table>\n",
       "</div>"
      ],
      "text/plain": [
       "                            Open   High    Low  Close  Adj Close  Volume\n",
       "Datetime                                                                \n",
       "2020-08-10 09:30:00-04:00  18.93  19.01  18.86  18.99      18.99   47211\n",
       "2020-08-10 09:35:00-04:00  18.99  19.00  18.90  18.98      18.98   15092\n",
       "2020-08-10 09:40:00-04:00  18.99  19.09  18.97  19.08      19.08    9462\n",
       "2020-08-10 09:45:00-04:00  19.08  19.08  18.94  18.98      18.98   17195\n",
       "2020-08-10 09:50:00-04:00  18.99  19.02  18.94  18.97      18.97   11259"
      ]
     },
     "execution_count": 8,
     "metadata": {},
     "output_type": "execute_result"
    }
   ],
   "source": [
    "data.head()"
   ]
  },
  {
   "cell_type": "code",
   "execution_count": 25,
   "metadata": {},
   "outputs": [
    {
     "name": "stdout",
     "output_type": "stream",
     "text": [
      "[*********************100%***********************]  1 of 1 downloaded\n"
     ]
    }
   ],
   "source": [
    "#Stock data with start and end date\n",
    "data = yf.download('VST', start = '2018-09-09', end = '2020-09-09')"
   ]
  },
  {
   "cell_type": "code",
   "execution_count": 26,
   "metadata": {},
   "outputs": [
    {
     "data": {
      "text/html": [
       "<div>\n",
       "<style scoped>\n",
       "    .dataframe tbody tr th:only-of-type {\n",
       "        vertical-align: middle;\n",
       "    }\n",
       "\n",
       "    .dataframe tbody tr th {\n",
       "        vertical-align: top;\n",
       "    }\n",
       "\n",
       "    .dataframe thead th {\n",
       "        text-align: right;\n",
       "    }\n",
       "</style>\n",
       "<table border=\"1\" class=\"dataframe\">\n",
       "  <thead>\n",
       "    <tr style=\"text-align: right;\">\n",
       "      <th></th>\n",
       "      <th>Open</th>\n",
       "      <th>High</th>\n",
       "      <th>Low</th>\n",
       "      <th>Close</th>\n",
       "      <th>Adj Close</th>\n",
       "      <th>Volume</th>\n",
       "    </tr>\n",
       "    <tr>\n",
       "      <th>Date</th>\n",
       "      <th></th>\n",
       "      <th></th>\n",
       "      <th></th>\n",
       "      <th></th>\n",
       "      <th></th>\n",
       "      <th></th>\n",
       "    </tr>\n",
       "  </thead>\n",
       "  <tbody>\n",
       "    <tr>\n",
       "      <th>2018-09-10</th>\n",
       "      <td>22.61</td>\n",
       "      <td>23.04</td>\n",
       "      <td>22.53</td>\n",
       "      <td>22.90</td>\n",
       "      <td>22.10</td>\n",
       "      <td>2600100</td>\n",
       "    </tr>\n",
       "    <tr>\n",
       "      <th>2018-09-11</th>\n",
       "      <td>22.82</td>\n",
       "      <td>23.21</td>\n",
       "      <td>22.76</td>\n",
       "      <td>22.98</td>\n",
       "      <td>22.18</td>\n",
       "      <td>3520300</td>\n",
       "    </tr>\n",
       "    <tr>\n",
       "      <th>2018-09-12</th>\n",
       "      <td>22.96</td>\n",
       "      <td>23.33</td>\n",
       "      <td>22.95</td>\n",
       "      <td>23.25</td>\n",
       "      <td>22.44</td>\n",
       "      <td>3761600</td>\n",
       "    </tr>\n",
       "    <tr>\n",
       "      <th>2018-09-13</th>\n",
       "      <td>23.32</td>\n",
       "      <td>23.49</td>\n",
       "      <td>23.13</td>\n",
       "      <td>23.35</td>\n",
       "      <td>22.54</td>\n",
       "      <td>2445000</td>\n",
       "    </tr>\n",
       "    <tr>\n",
       "      <th>2018-09-14</th>\n",
       "      <td>23.27</td>\n",
       "      <td>23.61</td>\n",
       "      <td>23.27</td>\n",
       "      <td>23.35</td>\n",
       "      <td>22.54</td>\n",
       "      <td>3375300</td>\n",
       "    </tr>\n",
       "  </tbody>\n",
       "</table>\n",
       "</div>"
      ],
      "text/plain": [
       "             Open   High    Low  Close  Adj Close   Volume\n",
       "Date                                                      \n",
       "2018-09-10  22.61  23.04  22.53  22.90      22.10  2600100\n",
       "2018-09-11  22.82  23.21  22.76  22.98      22.18  3520300\n",
       "2018-09-12  22.96  23.33  22.95  23.25      22.44  3761600\n",
       "2018-09-13  23.32  23.49  23.13  23.35      22.54  2445000\n",
       "2018-09-14  23.27  23.61  23.27  23.35      22.54  3375300"
      ]
     },
     "execution_count": 26,
     "metadata": {},
     "output_type": "execute_result"
    }
   ],
   "source": [
    "data.head()"
   ]
  },
  {
   "cell_type": "markdown",
   "metadata": {},
   "source": [
    "Pulling Data For Multiple Tickers"
   ]
  },
  {
   "cell_type": "code",
   "execution_count": 27,
   "metadata": {},
   "outputs": [],
   "source": [
    "import datetime as dt\n",
    "import yfinance as yf\n",
    "import pandas as pd"
   ]
  },
  {
   "cell_type": "code",
   "execution_count": 28,
   "metadata": {},
   "outputs": [],
   "source": [
    "start = dt.datetime.today() - dt.timedelta(365)"
   ]
  },
  {
   "cell_type": "code",
   "execution_count": 29,
   "metadata": {},
   "outputs": [],
   "source": [
    "end = dt.datetime.today()"
   ]
  },
  {
   "cell_type": "code",
   "execution_count": 30,
   "metadata": {},
   "outputs": [],
   "source": [
    "tickers = ['VST', 'NRG', 'PEG', 'EXC']"
   ]
  },
  {
   "cell_type": "code",
   "execution_count": 31,
   "metadata": {},
   "outputs": [],
   "source": [
    "stock_price = pd.DataFrame()"
   ]
  },
  {
   "cell_type": "code",
   "execution_count": 32,
   "metadata": {},
   "outputs": [
    {
     "name": "stdout",
     "output_type": "stream",
     "text": [
      "[*********************100%***********************]  1 of 1 downloaded\n",
      "[*********************100%***********************]  1 of 1 downloaded\n",
      "[*********************100%***********************]  1 of 1 downloaded\n",
      "[*********************100%***********************]  1 of 1 downloaded\n"
     ]
    }
   ],
   "source": [
    "for ticker in tickers:\n",
    "    stock_price[ticker] = yf.download(ticker, start = start, end = end)['Adj Close']"
   ]
  },
  {
   "cell_type": "code",
   "execution_count": 33,
   "metadata": {},
   "outputs": [
    {
     "data": {
      "text/html": [
       "<div>\n",
       "<style scoped>\n",
       "    .dataframe tbody tr th:only-of-type {\n",
       "        vertical-align: middle;\n",
       "    }\n",
       "\n",
       "    .dataframe tbody tr th {\n",
       "        vertical-align: top;\n",
       "    }\n",
       "\n",
       "    .dataframe thead th {\n",
       "        text-align: right;\n",
       "    }\n",
       "</style>\n",
       "<table border=\"1\" class=\"dataframe\">\n",
       "  <thead>\n",
       "    <tr style=\"text-align: right;\">\n",
       "      <th></th>\n",
       "      <th>VST</th>\n",
       "      <th>NRG</th>\n",
       "      <th>PEG</th>\n",
       "      <th>EXC</th>\n",
       "    </tr>\n",
       "    <tr>\n",
       "      <th>Date</th>\n",
       "      <th></th>\n",
       "      <th></th>\n",
       "      <th></th>\n",
       "      <th></th>\n",
       "    </tr>\n",
       "  </thead>\n",
       "  <tbody>\n",
       "    <tr>\n",
       "      <th>2019-09-11</th>\n",
       "      <td>25.32</td>\n",
       "      <td>37.60</td>\n",
       "      <td>59.74</td>\n",
       "      <td>46.98</td>\n",
       "    </tr>\n",
       "    <tr>\n",
       "      <th>2019-09-12</th>\n",
       "      <td>25.61</td>\n",
       "      <td>37.29</td>\n",
       "      <td>59.30</td>\n",
       "      <td>46.16</td>\n",
       "    </tr>\n",
       "    <tr>\n",
       "      <th>2019-09-13</th>\n",
       "      <td>25.71</td>\n",
       "      <td>37.50</td>\n",
       "      <td>58.67</td>\n",
       "      <td>45.57</td>\n",
       "    </tr>\n",
       "    <tr>\n",
       "      <th>2019-09-16</th>\n",
       "      <td>26.02</td>\n",
       "      <td>38.01</td>\n",
       "      <td>58.67</td>\n",
       "      <td>45.68</td>\n",
       "    </tr>\n",
       "    <tr>\n",
       "      <th>2019-09-17</th>\n",
       "      <td>26.11</td>\n",
       "      <td>38.01</td>\n",
       "      <td>59.03</td>\n",
       "      <td>45.59</td>\n",
       "    </tr>\n",
       "  </tbody>\n",
       "</table>\n",
       "</div>"
      ],
      "text/plain": [
       "              VST    NRG    PEG    EXC\n",
       "Date                                  \n",
       "2019-09-11  25.32  37.60  59.74  46.98\n",
       "2019-09-12  25.61  37.29  59.30  46.16\n",
       "2019-09-13  25.71  37.50  58.67  45.57\n",
       "2019-09-16  26.02  38.01  58.67  45.68\n",
       "2019-09-17  26.11  38.01  59.03  45.59"
      ]
     },
     "execution_count": 33,
     "metadata": {},
     "output_type": "execute_result"
    }
   ],
   "source": [
    "stock_price.head()"
   ]
  },
  {
   "cell_type": "code",
   "execution_count": 36,
   "metadata": {},
   "outputs": [],
   "source": [
    "stock_dic = {}"
   ]
  },
  {
   "cell_type": "code",
   "execution_count": 37,
   "metadata": {},
   "outputs": [
    {
     "name": "stdout",
     "output_type": "stream",
     "text": [
      "[*********************100%***********************]  1 of 1 downloaded\n",
      "[*********************100%***********************]  1 of 1 downloaded\n",
      "[*********************100%***********************]  1 of 1 downloaded\n",
      "[*********************100%***********************]  1 of 1 downloaded\n"
     ]
    }
   ],
   "source": [
    "for ticker in tickers:\n",
    "    stock_dic[ticker] = yf.download(ticker, start, end)"
   ]
  },
  {
   "cell_type": "code",
   "execution_count": 43,
   "metadata": {},
   "outputs": [
    {
     "data": {
      "text/html": [
       "<div>\n",
       "<style scoped>\n",
       "    .dataframe tbody tr th:only-of-type {\n",
       "        vertical-align: middle;\n",
       "    }\n",
       "\n",
       "    .dataframe tbody tr th {\n",
       "        vertical-align: top;\n",
       "    }\n",
       "\n",
       "    .dataframe thead th {\n",
       "        text-align: right;\n",
       "    }\n",
       "</style>\n",
       "<table border=\"1\" class=\"dataframe\">\n",
       "  <thead>\n",
       "    <tr style=\"text-align: right;\">\n",
       "      <th></th>\n",
       "      <th>Open</th>\n",
       "      <th>High</th>\n",
       "      <th>Low</th>\n",
       "      <th>Close</th>\n",
       "      <th>Adj Close</th>\n",
       "      <th>Volume</th>\n",
       "    </tr>\n",
       "    <tr>\n",
       "      <th>Date</th>\n",
       "      <th></th>\n",
       "      <th></th>\n",
       "      <th></th>\n",
       "      <th></th>\n",
       "      <th></th>\n",
       "      <th></th>\n",
       "    </tr>\n",
       "  </thead>\n",
       "  <tbody>\n",
       "    <tr>\n",
       "      <th>2019-09-11</th>\n",
       "      <td>38.10</td>\n",
       "      <td>38.93</td>\n",
       "      <td>37.82</td>\n",
       "      <td>38.61</td>\n",
       "      <td>37.60</td>\n",
       "      <td>2100800</td>\n",
       "    </tr>\n",
       "    <tr>\n",
       "      <th>2019-09-12</th>\n",
       "      <td>38.52</td>\n",
       "      <td>38.76</td>\n",
       "      <td>38.26</td>\n",
       "      <td>38.29</td>\n",
       "      <td>37.29</td>\n",
       "      <td>2339800</td>\n",
       "    </tr>\n",
       "    <tr>\n",
       "      <th>2019-09-13</th>\n",
       "      <td>38.14</td>\n",
       "      <td>38.71</td>\n",
       "      <td>37.73</td>\n",
       "      <td>38.50</td>\n",
       "      <td>37.50</td>\n",
       "      <td>2929100</td>\n",
       "    </tr>\n",
       "    <tr>\n",
       "      <th>2019-09-16</th>\n",
       "      <td>38.53</td>\n",
       "      <td>39.04</td>\n",
       "      <td>38.35</td>\n",
       "      <td>39.03</td>\n",
       "      <td>38.01</td>\n",
       "      <td>2435200</td>\n",
       "    </tr>\n",
       "    <tr>\n",
       "      <th>2019-09-17</th>\n",
       "      <td>39.10</td>\n",
       "      <td>39.37</td>\n",
       "      <td>38.80</td>\n",
       "      <td>39.03</td>\n",
       "      <td>38.01</td>\n",
       "      <td>2801000</td>\n",
       "    </tr>\n",
       "  </tbody>\n",
       "</table>\n",
       "</div>"
      ],
      "text/plain": [
       "             Open   High    Low  Close  Adj Close   Volume\n",
       "Date                                                      \n",
       "2019-09-11  38.10  38.93  37.82  38.61      37.60  2100800\n",
       "2019-09-12  38.52  38.76  38.26  38.29      37.29  2339800\n",
       "2019-09-13  38.14  38.71  37.73  38.50      37.50  2929100\n",
       "2019-09-16  38.53  39.04  38.35  39.03      38.01  2435200\n",
       "2019-09-17  39.10  39.37  38.80  39.03      38.01  2801000"
      ]
     },
     "execution_count": 43,
     "metadata": {},
     "output_type": "execute_result"
    }
   ],
   "source": [
    "stock_dic['NRG'].head()"
   ]
  },
  {
   "cell_type": "code",
   "execution_count": null,
   "metadata": {},
   "outputs": [],
   "source": []
  }
 ],
 "metadata": {
  "kernelspec": {
   "display_name": "Python 3",
   "language": "python",
   "name": "python3"
  },
  "language_info": {
   "codemirror_mode": {
    "name": "ipython",
    "version": 3
   },
   "file_extension": ".py",
   "mimetype": "text/x-python",
   "name": "python",
   "nbconvert_exporter": "python",
   "pygments_lexer": "ipython3",
   "version": "3.7.3"
  }
 },
 "nbformat": 4,
 "nbformat_minor": 4
}
